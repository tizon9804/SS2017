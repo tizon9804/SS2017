{
 "cells": [
  {
   "cell_type": "markdown",
   "metadata": {},
   "source": [
    "<img src=\"imgs/header.png\">"
   ]
  },
  {
   "cell_type": "markdown",
   "metadata": {},
   "source": [
    "## Visualization techniques for scalar fields in VTK + Python\n",
    "## Goals \n",
    "* Inspect VTK Objects via the qtconsole for Jupyter (using the magic `%qtconsole`)\n",
    "* Including a new filter, mapper, and actor to visualize the complete/partial mesh \n",
    "* Computing new data arrays using the `vtkCalculator()` \n",
    "* Performing data transformations: from rectilinear grid to unstructured grid and image data\n",
    "* Data filtering\n",
    "* Visualizing scalar fields using, points, surfaces, isosurfaces, and volume rendering \n",
    "    * Basics of transfer functions\n",
    "    "
   ]
  },
  {
   "cell_type": "markdown",
   "metadata": {},
   "source": [
    "# Challenge 1: Adding a new Filter+Mapper+Actor to visualize the grid \n",
    "Try to find out how to visualize the mesh structure (grid). Take a look at [RectilinearGrid.py](http://www.vtk.org/Wiki/VTK/Examples/Python/RectilinearGrid/vtkRectilinearGrid) example from the VTK wiki."
   ]
  },
  {
   "cell_type": "code",
   "execution_count": 1,
   "metadata": {
    "collapsed": true
   },
   "outputs": [],
   "source": [
    "import vtk\n",
    "#help(vtk.vtkRectilinearGridReader())\n",
    "%gui qt\n",
    "rectGridReader = vtk.vtkRectilinearGridReader()\n",
    "rectGridReader.SetFileName(\"data/jet4_0.500.vtk\")\n",
    "# do not forget to call \"Update()\" at the end of the reader\n",
    "rectGridReader.Update()"
   ]
  },
  {
   "cell_type": "code",
   "execution_count": 82,
   "metadata": {},
   "outputs": [],
   "source": [
    "rectGridOutline = vtk.vtkRectilinearGridOutlineFilter()\n",
    "rectGridOutline.SetInputData(rectGridReader.GetOutput())\n",
    "\n",
    "# New vtkRectilinearGridGeometryFilter() goes here:\n",
    "plane = vtk.vtkRectilinearGridGeometryFilter()\n",
    "plane.SetInputData(rectGridReader.GetOutput())\n",
    "plane.SetExtent(0, 128,0,150 , 0, 128) \n",
    "\n",
    "rectGridOutlineMapper = vtk.vtkPolyDataMapper()\n",
    "rectGridOutlineMapper.SetInputConnection(rectGridOutline.GetOutputPort())\n",
    "\n",
    "rectGridGeomMapper = vtk.vtkPolyDataMapper()\n",
    "rectGridGeomMapper.SetInputConnection(plane.GetOutputPort())\n",
    "\n",
    "outlineActor = vtk.vtkActor()\n",
    "outlineActor.SetMapper(rectGridOutlineMapper)\n",
    "outlineActor.GetProperty().SetRepresentationToWireframe()\n",
    "outlineActor.GetProperty().SetColor(1, 1, 0.9)\n",
    "\n",
    "gridGeomActor = vtk.vtkActor()\n",
    "gridGeomActor.SetMapper(rectGridGeomMapper)\n",
    "#gridGeomActor.GetProperty().SetRepresentationToWireframe()\n",
    "gridGeomActor.GetProperty().SetColor(0.9, 0.6, 0.6)\n",
    "# Find out how to visualize this as a wireframe \n",
    "#renderer = vtk.vtkRenderer()\n",
    "#renderer.SetBackground(1, 1, 1)\n",
    "#renderer.AddActor(outlineActor)\n",
    "#renderer.AddActor(gridGeomActor)\n",
    "#renderer.ResetCamera()\n",
    "\n",
    "#renderWindow = vtk.vtkRenderWindow()\n",
    "#renderWindow.AddRenderer(renderer)\n",
    "#renderWindow.SetSize(700, 700)\n",
    "#renderer.GetActiveCamera().Elevation(60.0)\n",
    "#renderer.GetActiveCamera().Azimuth(30.0)\n",
    "#renderer.GetActiveCamera().Zoom(1.0)\n",
    "#renderWindow.Render()\n",
    "\n",
    "#iren = vtk.vtkRenderWindowInteractor()\n",
    "#iren.SetRenderWindow(renderWindow)\n",
    "#iren.Start()\n",
    "# Play with the options you get for setting up actor properties (color, opacity, etc.)\n"
   ]
  },
  {
   "cell_type": "markdown",
   "metadata": {},
   "source": [
    "# Challenge 2: Using the vtkCalulator to compute the vector magnitude\n",
    "As you should have noticed our data set has only one point data array named vectors. We need now to use this array to calculate the magnitude of the vectors at each point of the grid. We will do this by using the [vtk.vtkArrayCalculator()](http://www.vtk.org/doc/nightly/html/classvtkArrayCalculator.html)."
   ]
  },
  {
   "cell_type": "code",
   "execution_count": 16,
   "metadata": {
    "collapsed": true
   },
   "outputs": [],
   "source": [
    "#%qtconsole"
   ]
  },
  {
   "cell_type": "code",
   "execution_count": 7,
   "metadata": {},
   "outputs": [],
   "source": [
    "magnitudeCalcFilter = vtk.vtkArrayCalculator()\n",
    "magnitudeCalcFilter.SetInputConnection(rectGridReader.GetOutputPort())\n",
    "magnitudeCalcFilter.AddVectorArrayName('vectors')\n",
    "# Set up here the array that is going to be used for the computation ('vectors')\n",
    "magnitudeCalcFilter.SetResultArrayName('magnitude')\n",
    "magnitudeCalcFilter.SetFunction(\"mag(vectors)\")\n",
    "# Set up here the function that calculates the magnitude of a vector\n",
    "magnitudeCalcFilter.Update()\n",
    "\n",
    "#Inspect the output of the calculator using the IPython console to verify the result"
   ]
  },
  {
   "cell_type": "markdown",
   "metadata": {
    "collapsed": true
   },
   "source": [
    "# Challenge 3: Visualize the data set as colored points based on the \"magnitude\" value\n",
    "Take a look at the [`subset`](http://www.vtk.org/doc/nightly/html/classvtkMaskPoints.html) object. What happens when you change the SetOnRadio parameter? Try out changing between different `RandomModeType` options. What does the `SetScalarModeToUsePointData()` function does?"
   ]
  },
  {
   "cell_type": "code",
   "execution_count": 28,
   "metadata": {},
   "outputs": [],
   "source": [
    "#Extract the data from the result of the vtkCalculator\n",
    "points = vtk.vtkPoints()\n",
    "grid = magnitudeCalcFilter.GetOutput()\n",
    "grid.GetPoints(points)\n",
    "scalars = grid.GetPointData().GetArray('magnitude')\n",
    "\n",
    "#Create an unstructured grid that will contain the points and scalars data\n",
    "ugrid = vtk.vtkUnstructuredGrid()\n",
    "ugrid.SetPoints(points)\n",
    "ugrid.GetPointData().SetScalars(scalars)\n",
    "\n",
    "#Populate the cells in the unstructured grid using the output of the vtkCalculator\n",
    "for i in range (0, grid.GetNumberOfCells()):\n",
    "    cell = grid.GetCell(i)\n",
    "    ugrid.InsertNextCell(cell.GetCellType(), cell.GetPointIds())"
   ]
  },
  {
   "cell_type": "code",
   "execution_count": 67,
   "metadata": {},
   "outputs": [],
   "source": [
    "lut2 = vtk.vtkLookupTable()\n",
    "lut2.SetNumberOfColors(10)\n",
    "lut2.SetHueRange(1, 0)\n",
    "lut2.SetVectorModeToMagnitude()\n",
    "lut2.Build()\n",
    "#There are too many points, let's filter the points\n",
    "subset = vtk.vtkMaskPoints()\n",
    "subset.SetOnRatio(10)\n",
    "subset.RandomModeOn()\n",
    "subset.SetInputData(ugrid)\n",
    "\n",
    "#Make a vtkPolyData with a vertex on each point.\n",
    "pointsGlyph = vtk.vtkVertexGlyphFilter()\n",
    "pointsGlyph.SetInputConnection(subset.GetOutputPort())\n",
    "#pointsGlyph.SetInputData(ugrid)\n",
    "pointsGlyph.Update()\n",
    "\n",
    "plane = vtk.vtkRectilinearGridGeometryFilter()\n",
    "plane.SetInputData(pointsGlyph.GetOutput())\n",
    "plane.SetExtent(0, 128,0,150 , 0, 128) \n",
    "plane.Update()\n",
    "\n",
    "pointsMapper = vtk.vtkPolyDataMapper()\n",
    "pointsMapper.SetInputConnection(pointsGlyph.GetOutputPort())\n",
    "pointsMapper.SetLookupTable(lut2)\n",
    "pointsMapper.SetScalarModeToUsePointData()\n",
    "\n",
    "pointsActor = vtk.vtkActor()\n",
    "pointsActor.SetMapper(pointsMapper)\n",
    "pointsActor.GetProperty().SetOpacity(1)"
   ]
  },
  {
   "cell_type": "markdown",
   "metadata": {},
   "source": [
    "# Challenge 4: Visualize the data set as isosurfaces based on the \"magnitude\" value\n",
    "Go to the documentation of vtkContourFilter and explain what does the GenerateValues() do?  Inspect the scalarRange of the magnitude array. What happens when you change these values in the function? "
   ]
  },
  {
   "cell_type": "code",
   "execution_count": 71,
   "metadata": {},
   "outputs": [],
   "source": [
    "scalarRange = ugrid.GetPointData().GetScalars().GetRange()\n",
    "\n",
    "isoFilter = vtk.vtkContourFilter()\n",
    "isoFilter.SetInputData(ugrid)\n",
    "isoFilter.GenerateValues(3, scalarRange)\n",
    "\n",
    "isoMapper = vtk.vtkPolyDataMapper()\n",
    "isoMapper.SetInputConnection(isoFilter.GetOutputPort())\n",
    "isoMapper.SetLookupTable(lut)\n",
    "\n",
    "isoActor = vtk.vtkActor()\n",
    "isoActor.SetMapper(isoMapper)\n",
    "isoActor.GetProperty().SetOpacity(1)\n",
    "\n",
    "scalarRange = ugrid.GetPointData().GetScalars().GetRange()\n",
    "\n",
    "isoFilter2 = vtk.vtkContourFilter()\n",
    "isoFilter2.SetInputData(ugrid)\n",
    "isoFilter2.GenerateValues(10, scalarRange)\n",
    "\n",
    "isoMapper2 = vtk.vtkPolyDataMapper()\n",
    "isoMapper2.SetInputConnection(isoFilter2.GetOutputPort())\n",
    "isoMapper2.SetLookupTable(lut2)\n",
    "\n",
    "isoActor2 = vtk.vtkActor()\n",
    "isoActor2.SetMapper(isoMapper2)\n",
    "isoActor2.GetProperty().SetOpacity(0.1)"
   ]
  },
  {
   "cell_type": "markdown",
   "metadata": {},
   "source": [
    "# An alternative to define colormaps "
   ]
  },
  {
   "cell_type": "code",
   "execution_count": 72,
   "metadata": {},
   "outputs": [],
   "source": [
    "lut = vtk.vtkLookupTable()\n",
    "lut.SetNumberOfColors(256)\n",
    "lut.SetHueRange(0.667, 0.3)\n",
    "lut.SetVectorModeToMagnitude()\n",
    "lut.Build()\n",
    "\n",
    "hh = vtk.vtkHedgeHog()\n",
    "hh.SetInputConnection(subset.GetOutputPort())\n",
    "hh.SetScaleFactor(0.001)\n",
    "\n",
    "hhm = vtk.vtkPolyDataMapper()\n",
    "hhm.SetInputConnection(hh.GetOutputPort())\n",
    "hhm.SetLookupTable(lut)\n",
    "hhm.SetScalarVisibility(True)\n",
    "hhm.SetScalarModeToUsePointFieldData()\n",
    "hhm.SelectColorArray('vectors')\n",
    "hhm.SetScalarRange((grid.GetPointData().GetVectors().GetRange(-1)))\n",
    "\n",
    "hhActor = vtk.vtkActor()\n",
    "hhActor.SetMapper(hhm)"
   ]
  },
  {
   "cell_type": "markdown",
   "metadata": {},
   "source": [
    "### Renderer, render window, and interactor "
   ]
  },
  {
   "cell_type": "code",
   "execution_count": 87,
   "metadata": {},
   "outputs": [],
   "source": [
    "#Option 1: Default vtk render window\n",
    "renderer = vtk.vtkRenderer()\n",
    "renderer.SetBackground(0.6, 0.6, 0.6)\n",
    "renderer.AddActor(outlineActor)\n",
    "renderer.AddActor(isoActor)\n",
    "renderer.AddActor(isoActor2)\n",
    "#renderer.AddActor(gridGeomActor)\n",
    "renderer.AddActor(pointsActor)\n",
    "renderer.ResetCamera()\n",
    "\n",
    "renderWindow = vtk.vtkRenderWindow()\n",
    "renderWindow.AddRenderer(renderer)\n",
    "renderWindow.SetSize(2000, 2000)\n",
    "renderWindow.Render()\n",
    "\n",
    "iren = vtk.vtkRenderWindowInteractor()\n",
    "iren.SetRenderWindow(renderWindow)\n",
    "iren.Start()"
   ]
  },
  {
   "cell_type": "code",
   "execution_count": null,
   "metadata": {
    "collapsed": true
   },
   "outputs": [],
   "source": []
  }
 ],
 "metadata": {
  "kernelspec": {
   "display_name": "Python 3",
   "language": "python",
   "name": "python3"
  },
  "language_info": {
   "codemirror_mode": {
    "name": "ipython",
    "version": 3
   },
   "file_extension": ".py",
   "mimetype": "text/x-python",
   "name": "python",
   "nbconvert_exporter": "python",
   "pygments_lexer": "ipython3",
   "version": "3.6.1"
  }
 },
 "nbformat": 4,
 "nbformat_minor": 2
}
