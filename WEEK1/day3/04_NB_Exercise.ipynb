{
 "cells": [
  {
   "cell_type": "markdown",
   "metadata": {},
   "source": [
    "<img src=\"imgs/header.png\">"
   ]
  },
  {
   "cell_type": "markdown",
   "metadata": {},
   "source": [
    "# Challenge 1: Fix the script!\n",
    "This script does not work! Remember what we learned about the vtk pipeline and how the data is exchanged between the different parts of the pipeline and fix it!. Once you fix it, write a brief description of what you did to fix it. Also embed an image of the result in your notebook (__Tip.__ Use the `vtk_show` function)."
   ]
  },
  {
   "cell_type": "code",
   "execution_count": 1,
   "metadata": {
    "collapsed": true
   },
   "outputs": [],
   "source": [
    "import vtk"
   ]
  },
  {
   "cell_type": "code",
   "execution_count": 2,
   "metadata": {
    "collapsed": true
   },
   "outputs": [],
   "source": [
    "pl3d = vtk.vtkMultiBlockPLOT3DReader()\n",
    "xyx_file = \"data/combxyz.bin\"\n",
    "q_file = \"data/combq.bin\"\n",
    "pl3d.SetXYZFileName(xyx_file)\n",
    "pl3d.SetQFileName(q_file)\n",
    "pl3d.SetScalarFunctionNumber(100)\n",
    "pl3d.SetVectorFunctionNumber(202)\n",
    "pl3d.Update()"
   ]
  },
  {
   "cell_type": "code",
   "execution_count": 3,
   "metadata": {},
   "outputs": [],
   "source": [
    "\n",
    "blocks = pl3d.GetOutput()\n",
    "b0 = blocks.GetBlock(0)\n",
    "points = vtk.vtkVertexGlyphFilter()\n",
    "points.SetInputData(b0)\n",
    "\n",
    "outline = vtk.vtkStructuredGridOutlineFilter()\n",
    "outline.SetInputData(b0)\n",
    "\n",
    "outlineMapper = vtk.vtkPolyDataMapper()\n",
    "outlineMapper.SetInputConnection(outline.GetOutputPort())\n",
    "\n",
    "outlineActor = vtk.vtkActor()\n",
    "outlineActor.SetMapper(outlineMapper)\n",
    "outlineActor.GetProperty().SetColor(1,1,1)\n",
    "\n",
    "renderer = vtk.vtkRenderer()\n",
    "renderWindow = vtk.vtkRenderWindow()\n",
    "renderWindow.AddRenderer(renderer)\n",
    "\n",
    "interactor = vtk.vtkRenderWindowInteractor()\n",
    "interactor.SetInteractorStyle(vtk.vtkInteractorStyleTrackballCamera())\n",
    "\n",
    "renderWindow.SetInteractor(interactor)\n",
    "renderer.AddActor(outlineActor)\n",
    "\n",
    "scalarsMapper = vtk.vtkPolyDataMapper()\n",
    "scalarsMapper.SetInputConnection(points.GetOutputPort())\n",
    "scalarsMapper.SetScalarModeToUsePointData()\n",
    "scalarsActor = vtk.vtkActor()\n",
    "scalarsActor.SetMapper(scalarsMapper)\n",
    "renderer.AddActor(scalarsActor)\n",
    "\n",
    "renderer.SetBackground(0.2,0.2,0.2)\n",
    "interactor.SetRenderWindow(renderWindow)\n",
    "interactor.Start()"
   ]
  },
  {
   "cell_type": "markdown",
   "metadata": {},
   "source": [
    "# Challenge 2: Create a pipeline to visualize the sample .vtk files\n",
    "Create a pipeline to visualize the data files `exercise_op1.vtk` and `exercise_op2.vtk`. Include comments in the code to indicate the different parts of the pipeline.  "
   ]
  },
  {
   "cell_type": "code",
   "execution_count": null,
   "metadata": {},
   "outputs": [],
   "source": [
    "# VTK module is already imported from the previous challenge so we do not need to do it again\n",
    "import vtk\n",
    "# create a reader for your unstructured_grid\n",
    "ugridReader = vtk.vtkUnstructuredGridReader()\n",
    "ugridReader.SetFileName(\"data/exercise_op1.vtk\")\n",
    "ugridReader.Update()\n",
    "\n",
    "ugrid = ugridReader.GetOutput()\n",
    "scalarRange = ugrid.GetScalarRange()\n",
    "\n",
    "# mapper\n",
    "ugridMapper = vtk.vtkDataSetMapper()\n",
    "ugridMapper.SetInputData(ugrid)\n",
    "ugridMapper.SetScalarModeToUseCellData()\n",
    "#ugridMapper.SetScalarModeToUsePointData()\n",
    "ugridMapper.SetScalarRange(scalarRange)\n",
    "\n",
    "# actor\n",
    "ugridActor = vtk.vtkActor()\n",
    "ugridActor.SetMapper(ugridMapper)\n",
    "#ugridActor.GetProperty().SetRepresentationToWireframe()\n",
    "\n",
    "# create a rendering window and renderer\n",
    "renderer = vtk.vtkRenderer()\n",
    "renderer.SetBackground(1, 1,1)\n",
    "renderer.AddActor(ugridActor)\n",
    "\n",
    "renderWindow = vtk.vtkRenderWindow()\n",
    "renderWindow.SetSize(500, 500)\n",
    "renderWindow.AddRenderer(renderer)\n",
    "renderWindow.Render()\n",
    "\n",
    "# create and enable a renderWindowInteractor\n",
    "iren = vtk.vtkRenderWindowInteractor()\n",
    "iren.SetRenderWindow(renderWindow)\n",
    "iren.Start()"
   ]
  },
  {
   "cell_type": "code",
   "execution_count": null,
   "metadata": {
    "collapsed": true
   },
   "outputs": [],
   "source": []
  }
 ],
 "metadata": {
  "kernelspec": {
   "display_name": "Python 3",
   "language": "python",
   "name": "python3"
  },
  "language_info": {
   "codemirror_mode": {
    "name": "ipython",
    "version": 3
   },
   "file_extension": ".py",
   "mimetype": "text/x-python",
   "name": "python",
   "nbconvert_exporter": "python",
   "pygments_lexer": "ipython3",
   "version": "3.6.1"
  }
 },
 "nbformat": 4,
 "nbformat_minor": 2
}
